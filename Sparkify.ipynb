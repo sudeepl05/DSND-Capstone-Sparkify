{
 "cells": [
  {
   "cell_type": "markdown",
   "metadata": {},
   "source": [
    "# Sparkify Project Workspace\n",
    "This workspace contains a tiny subset (128MB) of the full dataset available (12GB). Feel free to use this workspace to build your project, or to explore a smaller subset with Spark before deploying your cluster on the cloud. Instructions for setting up your Spark cluster is included in the last lesson of the Extracurricular Spark Course content.\n",
    "\n",
    "You can follow the steps below to guide your data analysis and model building portion of this project."
   ]
  },
  {
   "cell_type": "code",
   "execution_count": 1,
   "metadata": {},
   "outputs": [],
   "source": [
    "# import libraries\n",
    "import pandas as pd\n",
    "from pyspark.sql import SparkSession, Window\n",
    "from pyspark.sql.functions import avg, col, concat, count, desc, asc, explode, lit, split, stddev, udf, isnan, when, rank, from_unixtime"
   ]
  },
  {
   "cell_type": "code",
   "execution_count": 2,
   "metadata": {},
   "outputs": [],
   "source": [
    "# create a Spark session\n",
    "spark = SparkSession \\\n",
    "    .builder \\\n",
    "    .appName(\"Capstone\") \\\n",
    "    .getOrCreate()"
   ]
  },
  {
   "cell_type": "markdown",
   "metadata": {},
   "source": [
    "# Load and Clean Dataset\n",
    "In this workspace, the mini-dataset file is `mini_sparkify_event_data.json`. Load and clean the dataset, checking for invalid or missing data - for example, records without userids or sessionids. "
   ]
  },
  {
   "cell_type": "code",
   "execution_count": 3,
   "metadata": {},
   "outputs": [],
   "source": [
    "df = spark.read.json('mini_sparkify_event_data.json')"
   ]
  },
  {
   "cell_type": "code",
   "execution_count": 4,
   "metadata": {},
   "outputs": [
    {
     "name": "stdout",
     "output_type": "stream",
     "text": [
      "Column<b'artist'>\n",
      "Column<b'auth'>\n",
      "Column<b'firstName'>\n",
      "Column<b'gender'>\n",
      "Column<b'itemInSession'>\n",
      "Column<b'lastName'>\n",
      "Column<b'length'>\n",
      "Column<b'level'>\n",
      "Column<b'location'>\n",
      "Column<b'method'>\n",
      "Column<b'page'>\n",
      "Column<b'registration'>\n",
      "Column<b'sessionId'>\n",
      "Column<b'song'>\n",
      "Column<b'status'>\n",
      "Column<b'ts'>\n",
      "Column<b'userAgent'>\n",
      "Column<b'userId'>\n"
     ]
    }
   ],
   "source": [
    "for _ in df:\n",
    "    print(_)"
   ]
  },
  {
   "cell_type": "code",
   "execution_count": 5,
   "metadata": {},
   "outputs": [],
   "source": [
    "def count_missing(df, col):\n",
    "    \"\"\"\n",
    "    A helper function which count how many missing values in a colum of the dataset.\n",
    "    \n",
    "    This function is useful because the data can be either three cases below:\n",
    "    \n",
    "    1. NaN\n",
    "    2. Null\n",
    "    3. \"\" (empty string)\n",
    "    \"\"\"\n",
    "    return df.filter((isnan(df[col])) | (df[col].isNull()) | (df[col] == \"\")).count()"
   ]
  },
  {
   "cell_type": "code",
   "execution_count": 6,
   "metadata": {},
   "outputs": [
    {
     "name": "stdout",
     "output_type": "stream",
     "text": [
      "[missing values]\n",
      "\n",
      "artist: 58392\n",
      "firstName: 8346\n",
      "gender: 8346\n",
      "lastName: 8346\n",
      "length: 58392\n",
      "location: 8346\n",
      "registration: 8346\n",
      "song: 58392\n",
      "userAgent: 8346\n",
      "userId: 8346\n"
     ]
    }
   ],
   "source": [
    "print(\"[missing values]\\n\")\n",
    "for col in df.columns:\n",
    "    missing_count = count_missing(df, col)\n",
    "    if missing_count > 0:\n",
    "        print(\"{}: {}\".format(col, missing_count))"
   ]
  },
  {
   "cell_type": "code",
   "execution_count": 7,
   "metadata": {},
   "outputs": [],
   "source": [
    "df_cleaned = df.dropna(how = \"any\", subset = [\"userId\", \"sessionId\"])\n",
    "df_cleaned = df_cleaned.filter(df[\"userId\"] != \"\")"
   ]
  },
  {
   "cell_type": "code",
   "execution_count": 8,
   "metadata": {},
   "outputs": [
    {
     "name": "stdout",
     "output_type": "stream",
     "text": [
      "df:                    286500\n",
      "df_without_missing_id: 278154\n",
      "8346 rows have been removed.\n"
     ]
    }
   ],
   "source": [
    "print(\"df:                    {}\".format(df.count()))\n",
    "print(\"df_without_missing_id: {}\".format(df_cleaned.count())) # no missing values\n",
    "\n",
    "if df.count() == df_cleaned.count():\n",
    "    print(\"No missing values with userId and sessionId\")\n",
    "else:\n",
    "    print(\"{} rows have been removed.\".format(df.count() - df_cleaned.count()))"
   ]
  },
  {
   "cell_type": "code",
   "execution_count": 9,
   "metadata": {},
   "outputs": [],
   "source": [
    "df = df_cleaned"
   ]
  },
  {
   "cell_type": "markdown",
   "metadata": {},
   "source": [
    "# Exploratory Data Analysis\n",
    "When you're working with the full dataset, perform EDA by loading a small subset of the data and doing basic manipulations within Spark. In this workspace, you are already provided a small subset of data you can explore.\n",
    "\n",
    "### Define Churn\n",
    "\n",
    "Once you've done some preliminary analysis, create a column `Churn` to use as the label for your model. I suggest using the `Cancellation Confirmation` events to define your churn, which happen for both paid and free users. As a bonus task, you can also look into the `Downgrade` events.\n",
    "\n",
    "### Explore Data\n",
    "Once you've defined churn, perform some exploratory data analysis to observe the behavior for users who stayed vs users who churned. You can start by exploring aggregates on these two groups of users, observing how much of a specific action they experienced per a certain time unit or number of songs played."
   ]
  },
  {
   "cell_type": "code",
   "execution_count": 10,
   "metadata": {},
   "outputs": [
    {
     "name": "stdout",
     "output_type": "stream",
     "text": [
      "+--------------------+---------+---------+------+-------------+--------+---------+-----+--------------------+------+---------------+-------------+---------+--------------------+------+-------------+--------------------+------+\n",
      "|              artist|     auth|firstName|gender|itemInSession|lastName|   length|level|            location|method|           page| registration|sessionId|                song|status|           ts|           userAgent|userId|\n",
      "+--------------------+---------+---------+------+-------------+--------+---------+-----+--------------------+------+---------------+-------------+---------+--------------------+------+-------------+--------------------+------+\n",
      "|      Martha Tilston|Logged In|    Colin|     M|           50| Freeman|277.89016| paid|     Bakersfield, CA|   PUT|       NextSong|1538173362000|       29|           Rockpools|   200|1538352117000|Mozilla/5.0 (Wind...|    30|\n",
      "|    Five Iron Frenzy|Logged In|    Micah|     M|           79|    Long|236.09424| free|Boston-Cambridge-...|   PUT|       NextSong|1538331630000|        8|              Canada|   200|1538352180000|\"Mozilla/5.0 (Win...|     9|\n",
      "|        Adam Lambert|Logged In|    Colin|     M|           51| Freeman| 282.8273| paid|     Bakersfield, CA|   PUT|       NextSong|1538173362000|       29|   Time For Miracles|   200|1538352394000|Mozilla/5.0 (Wind...|    30|\n",
      "|              Enigma|Logged In|    Micah|     M|           80|    Long|262.71302| free|Boston-Cambridge-...|   PUT|       NextSong|1538331630000|        8|Knocking On Forbi...|   200|1538352416000|\"Mozilla/5.0 (Win...|     9|\n",
      "|           Daft Punk|Logged In|    Colin|     M|           52| Freeman|223.60771| paid|     Bakersfield, CA|   PUT|       NextSong|1538173362000|       29|Harder Better Fas...|   200|1538352676000|Mozilla/5.0 (Wind...|    30|\n",
      "|The All-American ...|Logged In|    Micah|     M|           81|    Long|208.29995| free|Boston-Cambridge-...|   PUT|       NextSong|1538331630000|        8|      Don't Leave Me|   200|1538352678000|\"Mozilla/5.0 (Win...|     9|\n",
      "|The Velvet Underg...|Logged In|    Micah|     M|           82|    Long|260.46649| free|Boston-Cambridge-...|   PUT|       NextSong|1538331630000|        8|         Run Run Run|   200|1538352886000|\"Mozilla/5.0 (Win...|     9|\n",
      "|        Starflyer 59|Logged In|    Colin|     M|           53| Freeman|185.44281| paid|     Bakersfield, CA|   PUT|       NextSong|1538173362000|       29|Passengers (Old A...|   200|1538352899000|Mozilla/5.0 (Wind...|    30|\n",
      "|                null|Logged In|    Colin|     M|           54| Freeman|     null| paid|     Bakersfield, CA|   PUT|Add to Playlist|1538173362000|       29|                null|   200|1538352905000|Mozilla/5.0 (Wind...|    30|\n",
      "|            Frumpies|Logged In|    Colin|     M|           55| Freeman|134.47791| paid|     Bakersfield, CA|   PUT|       NextSong|1538173362000|       29|          Fuck Kitty|   200|1538353084000|Mozilla/5.0 (Wind...|    30|\n",
      "|        Britt Nicole|Logged In|    Micah|     M|           83|    Long| 229.8771| free|Boston-Cambridge-...|   PUT|       NextSong|1538331630000|        8|   Walk On The Water|   200|1538353146000|\"Mozilla/5.0 (Win...|     9|\n",
      "|                null|Logged In|    Micah|     M|           84|    Long|     null| free|Boston-Cambridge-...|   GET|    Roll Advert|1538331630000|        8|                null|   200|1538353150000|\"Mozilla/5.0 (Win...|     9|\n",
      "|Edward Sharpe & T...|Logged In|    Colin|     M|           56| Freeman|223.58159| paid|     Bakersfield, CA|   PUT|       NextSong|1538173362000|       29|                Jade|   200|1538353218000|Mozilla/5.0 (Wind...|    30|\n",
      "|               Tesla|Logged In|    Micah|     M|           85|    Long|201.06404| free|Boston-Cambridge-...|   PUT|       NextSong|1538331630000|        8|      Gettin' Better|   200|1538353375000|\"Mozilla/5.0 (Win...|     9|\n",
      "|                null|Logged In|    Micah|     M|           86|    Long|     null| free|Boston-Cambridge-...|   PUT|      Thumbs Up|1538331630000|        8|                null|   307|1538353376000|\"Mozilla/5.0 (Win...|     9|\n",
      "|         Stan Mosley|Logged In|    Colin|     M|           57| Freeman|246.69995| paid|     Bakersfield, CA|   PUT|       NextSong|1538173362000|       29|   So-Called Friends|   200|1538353441000|Mozilla/5.0 (Wind...|    30|\n",
      "|Florence + The Ma...|Logged In|    Micah|     M|           87|    Long|168.64608| free|Boston-Cambridge-...|   PUT|       NextSong|1538331630000|        8| You've Got The Love|   200|1538353576000|\"Mozilla/5.0 (Win...|     9|\n",
      "|   Tokyo Police Club|Logged In|  Ashlynn|     F|            0|Williams| 166.1122| free|     Tallahassee, FL|   PUT|       NextSong|1537365219000|      217|Citizens Of Tomorrow|   200|1538353668000|\"Mozilla/5.0 (Mac...|    74|\n",
      "|             Orishas|Logged In|    Colin|     M|           58| Freeman|222.22322| paid|     Bakersfield, CA|   PUT|       NextSong|1538173362000|       29|           Represent|   200|1538353687000|Mozilla/5.0 (Wind...|    30|\n",
      "|             Ratatat|Logged In|    Micah|     M|           88|    Long|229.77261| free|Boston-Cambridge-...|   PUT|       NextSong|1538331630000|        8|              Swisha|   200|1538353744000|\"Mozilla/5.0 (Win...|     9|\n",
      "+--------------------+---------+---------+------+-------------+--------+---------+-----+--------------------+------+---------------+-------------+---------+--------------------+------+-------------+--------------------+------+\n",
      "only showing top 20 rows\n",
      "\n"
     ]
    }
   ],
   "source": [
    "df.select(\"*\").show()"
   ]
  },
  {
   "cell_type": "code",
   "execution_count": 11,
   "metadata": {},
   "outputs": [],
   "source": [
    "df_describe = df.describe().toPandas()"
   ]
  },
  {
   "cell_type": "code",
   "execution_count": 12,
   "metadata": {},
   "outputs": [
    {
     "data": {
      "text/html": [
       "<div>\n",
       "<style scoped>\n",
       "    .dataframe tbody tr th:only-of-type {\n",
       "        vertical-align: middle;\n",
       "    }\n",
       "\n",
       "    .dataframe tbody tr th {\n",
       "        vertical-align: top;\n",
       "    }\n",
       "\n",
       "    .dataframe thead th {\n",
       "        text-align: right;\n",
       "    }\n",
       "</style>\n",
       "<table border=\"1\" class=\"dataframe\">\n",
       "  <thead>\n",
       "    <tr style=\"text-align: right;\">\n",
       "      <th></th>\n",
       "      <th>summary</th>\n",
       "      <th>artist</th>\n",
       "      <th>auth</th>\n",
       "      <th>firstName</th>\n",
       "      <th>gender</th>\n",
       "      <th>itemInSession</th>\n",
       "      <th>lastName</th>\n",
       "      <th>length</th>\n",
       "      <th>level</th>\n",
       "      <th>location</th>\n",
       "      <th>method</th>\n",
       "      <th>page</th>\n",
       "      <th>registration</th>\n",
       "      <th>sessionId</th>\n",
       "      <th>song</th>\n",
       "      <th>status</th>\n",
       "      <th>ts</th>\n",
       "      <th>userAgent</th>\n",
       "      <th>userId</th>\n",
       "    </tr>\n",
       "  </thead>\n",
       "  <tbody>\n",
       "    <tr>\n",
       "      <td>0</td>\n",
       "      <td>count</td>\n",
       "      <td>228108</td>\n",
       "      <td>278154</td>\n",
       "      <td>278154</td>\n",
       "      <td>278154</td>\n",
       "      <td>278154</td>\n",
       "      <td>278154</td>\n",
       "      <td>228108</td>\n",
       "      <td>278154</td>\n",
       "      <td>278154</td>\n",
       "      <td>278154</td>\n",
       "      <td>278154</td>\n",
       "      <td>278154</td>\n",
       "      <td>278154</td>\n",
       "      <td>228108</td>\n",
       "      <td>278154</td>\n",
       "      <td>278154</td>\n",
       "      <td>278154</td>\n",
       "      <td>278154</td>\n",
       "    </tr>\n",
       "    <tr>\n",
       "      <td>1</td>\n",
       "      <td>mean</td>\n",
       "      <td>551.0852017937219</td>\n",
       "      <td>None</td>\n",
       "      <td>None</td>\n",
       "      <td>None</td>\n",
       "      <td>114.89918174824018</td>\n",
       "      <td>None</td>\n",
       "      <td>249.11718197783722</td>\n",
       "      <td>None</td>\n",
       "      <td>None</td>\n",
       "      <td>None</td>\n",
       "      <td>None</td>\n",
       "      <td>1.535358834085557E12</td>\n",
       "      <td>1042.5616241362698</td>\n",
       "      <td>Infinity</td>\n",
       "      <td>209.10321620397335</td>\n",
       "      <td>1.5409589154318577E12</td>\n",
       "      <td>None</td>\n",
       "      <td>59682.02278593872</td>\n",
       "    </tr>\n",
       "    <tr>\n",
       "      <td>2</td>\n",
       "      <td>stddev</td>\n",
       "      <td>1217.7693079161374</td>\n",
       "      <td>None</td>\n",
       "      <td>None</td>\n",
       "      <td>None</td>\n",
       "      <td>129.85172939949013</td>\n",
       "      <td>None</td>\n",
       "      <td>99.23517921058324</td>\n",
       "      <td>None</td>\n",
       "      <td>None</td>\n",
       "      <td>None</td>\n",
       "      <td>None</td>\n",
       "      <td>3.291321616328068E9</td>\n",
       "      <td>726.5010362219821</td>\n",
       "      <td>NaN</td>\n",
       "      <td>30.151388851327823</td>\n",
       "      <td>1.5068287123347573E9</td>\n",
       "      <td>None</td>\n",
       "      <td>109091.94999910519</td>\n",
       "    </tr>\n",
       "    <tr>\n",
       "      <td>3</td>\n",
       "      <td>min</td>\n",
       "      <td>!!!</td>\n",
       "      <td>Cancelled</td>\n",
       "      <td>Adelaida</td>\n",
       "      <td>F</td>\n",
       "      <td>0</td>\n",
       "      <td>Adams</td>\n",
       "      <td>0.78322</td>\n",
       "      <td>free</td>\n",
       "      <td>Albany, OR</td>\n",
       "      <td>GET</td>\n",
       "      <td>About</td>\n",
       "      <td>1521380675000</td>\n",
       "      <td>1</td>\n",
       "      <td>ÃÂg ÃÂtti GrÃÂ¡a ÃÂsku</td>\n",
       "      <td>200</td>\n",
       "      <td>1538352117000</td>\n",
       "      <td>\"Mozilla/5.0 (Macintosh; Intel Mac OS X 10_10)...</td>\n",
       "      <td>10</td>\n",
       "    </tr>\n",
       "    <tr>\n",
       "      <td>4</td>\n",
       "      <td>max</td>\n",
       "      <td>ÃÂlafur Arnalds</td>\n",
       "      <td>Logged In</td>\n",
       "      <td>Zyonna</td>\n",
       "      <td>M</td>\n",
       "      <td>1321</td>\n",
       "      <td>Wright</td>\n",
       "      <td>3024.66567</td>\n",
       "      <td>paid</td>\n",
       "      <td>Winston-Salem, NC</td>\n",
       "      <td>PUT</td>\n",
       "      <td>Upgrade</td>\n",
       "      <td>1543247354000</td>\n",
       "      <td>2474</td>\n",
       "      <td>ÃÂau hafa sloppiÃÂ° undan ÃÂ¾unga myrkursins</td>\n",
       "      <td>404</td>\n",
       "      <td>1543799476000</td>\n",
       "      <td>Mozilla/5.0 (compatible; MSIE 9.0; Windows NT ...</td>\n",
       "      <td>99</td>\n",
       "    </tr>\n",
       "  </tbody>\n",
       "</table>\n",
       "</div>"
      ],
      "text/plain": [
       "  summary              artist       auth firstName  gender  \\\n",
       "0   count              228108     278154    278154  278154   \n",
       "1    mean   551.0852017937219       None      None    None   \n",
       "2  stddev  1217.7693079161374       None      None    None   \n",
       "3     min                 !!!  Cancelled  Adelaida       F   \n",
       "4     max   ÃÂlafur Arnalds  Logged In    Zyonna       M   \n",
       "\n",
       "        itemInSession lastName              length   level           location  \\\n",
       "0              278154   278154              228108  278154             278154   \n",
       "1  114.89918174824018     None  249.11718197783722    None               None   \n",
       "2  129.85172939949013     None   99.23517921058324    None               None   \n",
       "3                   0    Adams             0.78322    free         Albany, OR   \n",
       "4                1321   Wright          3024.66567    paid  Winston-Salem, NC   \n",
       "\n",
       "   method     page          registration           sessionId  \\\n",
       "0  278154   278154                278154              278154   \n",
       "1    None     None  1.535358834085557E12  1042.5616241362698   \n",
       "2    None     None   3.291321616328068E9   726.5010362219821   \n",
       "3     GET    About         1521380675000                   1   \n",
       "4     PUT  Upgrade         1543247354000                2474   \n",
       "\n",
       "                                               song              status  \\\n",
       "0                                            228108              278154   \n",
       "1                                          Infinity  209.10321620397335   \n",
       "2                                               NaN  30.151388851327823   \n",
       "3                    \n",
       "ÃÂg ÃÂtti GrÃÂ¡a ÃÂsku                 200   \n",
       "4  ÃÂau hafa sloppiÃÂ° undan ÃÂ¾unga myrkursins                 404   \n",
       "\n",
       "                      ts                                          userAgent  \\\n",
       "0                 278154                                             278154   \n",
       "1  1.5409589154318577E12                                               None   \n",
       "2   1.5068287123347573E9                                               None   \n",
       "3          1538352117000  \"Mozilla/5.0 (Macintosh; Intel Mac OS X 10_10)...   \n",
       "4          1543799476000  Mozilla/5.0 (compatible; MSIE 9.0; Windows NT ...   \n",
       "\n",
       "               userId  \n",
       "0              278154  \n",
       "1   59682.02278593872  \n",
       "2  109091.94999910519  \n",
       "3                  10  \n",
       "4                  99  "
      ]
     },
     "execution_count": 12,
     "metadata": {},
     "output_type": "execute_result"
    }
   ],
   "source": [
    "df_describe.head()"
   ]
  },
  {
   "cell_type": "code",
   "execution_count": 13,
   "metadata": {},
   "outputs": [
    {
     "name": "stdout",
     "output_type": "stream",
     "text": [
      "+-------------+\n",
      "|itemInSession|\n",
      "+-------------+\n",
      "|           26|\n",
      "|           29|\n",
      "|          474|\n",
      "|          964|\n",
      "|           65|\n",
      "|          191|\n",
      "|          418|\n",
      "|          541|\n",
      "|          558|\n",
      "|         1010|\n",
      "|         1224|\n",
      "|         1258|\n",
      "|         1277|\n",
      "|          222|\n",
      "|          270|\n",
      "|          293|\n",
      "|          730|\n",
      "|          938|\n",
      "|         1127|\n",
      "|         1145|\n",
      "+-------------+\n",
      "only showing top 20 rows\n",
      "\n"
     ]
    }
   ],
   "source": [
    "df.select('itemInSession').dropDuplicates().show()"
   ]
  },
  {
   "cell_type": "code",
   "execution_count": 14,
   "metadata": {},
   "outputs": [
    {
     "name": "stdout",
     "output_type": "stream",
     "text": [
      "+-------+-------+\n",
      "|summary|   page|\n",
      "+-------+-------+\n",
      "|  count| 278154|\n",
      "|   mean|   null|\n",
      "| stddev|   null|\n",
      "|    min|  About|\n",
      "|    max|Upgrade|\n",
      "+-------+-------+\n",
      "\n"
     ]
    }
   ],
   "source": [
    "df.describe('page').show()"
   ]
  },
  {
   "cell_type": "code",
   "execution_count": 15,
   "metadata": {},
   "outputs": [
    {
     "name": "stdout",
     "output_type": "stream",
     "text": [
      "+-------+------------------+\n",
      "|summary|            status|\n",
      "+-------+------------------+\n",
      "|  count|            278154|\n",
      "|   mean|209.10321620397335|\n",
      "| stddev|30.151388851327823|\n",
      "|    min|               200|\n",
      "|    max|               404|\n",
      "+-------+------------------+\n",
      "\n"
     ]
    }
   ],
   "source": [
    "df.describe('status').show()"
   ]
  },
  {
   "cell_type": "code",
   "execution_count": 16,
   "metadata": {},
   "outputs": [
    {
     "name": "stdout",
     "output_type": "stream",
     "text": [
      "+-------+------+\n",
      "|summary|method|\n",
      "+-------+------+\n",
      "|  count|278154|\n",
      "|   mean|  null|\n",
      "| stddev|  null|\n",
      "|    min|   GET|\n",
      "|    max|   PUT|\n",
      "+-------+------+\n",
      "\n"
     ]
    }
   ],
   "source": [
    "df.describe('method').show()"
   ]
  },
  {
   "cell_type": "code",
   "execution_count": 17,
   "metadata": {},
   "outputs": [
    {
     "name": "stdout",
     "output_type": "stream",
     "text": [
      "+-------+------+\n",
      "|summary| level|\n",
      "+-------+------+\n",
      "|  count|278154|\n",
      "|   mean|  null|\n",
      "| stddev|  null|\n",
      "|    min|  free|\n",
      "|    max|  paid|\n",
      "+-------+------+\n",
      "\n"
     ]
    }
   ],
   "source": [
    "df.describe('level').show()"
   ]
  },
  {
   "cell_type": "code",
   "execution_count": 18,
   "metadata": {},
   "outputs": [
    {
     "data": {
      "text/plain": [
       "['artist',\n",
       " 'auth',\n",
       " 'firstName',\n",
       " 'gender',\n",
       " 'itemInSession',\n",
       " 'lastName',\n",
       " 'length',\n",
       " 'level',\n",
       " 'location',\n",
       " 'method',\n",
       " 'page',\n",
       " 'registration',\n",
       " 'sessionId',\n",
       " 'song',\n",
       " 'status',\n",
       " 'ts',\n",
       " 'userAgent',\n",
       " 'userId']"
      ]
     },
     "execution_count": 18,
     "metadata": {},
     "output_type": "execute_result"
    }
   ],
   "source": [
    "df.columns"
   ]
  },
  {
   "cell_type": "code",
   "execution_count": 19,
   "metadata": {},
   "outputs": [],
   "source": [
    "from pyspark.sql.functions import udf\n",
    "from pyspark.sql.types import StringType\n",
    "from pyspark.sql.types import IntegerType"
   ]
  },
  {
   "cell_type": "code",
   "execution_count": 20,
   "metadata": {},
   "outputs": [],
   "source": [
    "flag_churned_event = udf(lambda x: 1 if x == \"Cancellation Confirmation\" else 0, IntegerType())\n",
    "df_churned = df.withColumn(\"churned\", flag_churned_event(\"page\"))"
   ]
  },
  {
   "cell_type": "code",
   "execution_count": 21,
   "metadata": {},
   "outputs": [
    {
     "data": {
      "text/plain": [
       "['artist',\n",
       " 'auth',\n",
       " 'firstName',\n",
       " 'gender',\n",
       " 'itemInSession',\n",
       " 'lastName',\n",
       " 'length',\n",
       " 'level',\n",
       " 'location',\n",
       " 'method',\n",
       " 'page',\n",
       " 'registration',\n",
       " 'sessionId',\n",
       " 'song',\n",
       " 'status',\n",
       " 'ts',\n",
       " 'userAgent',\n",
       " 'userId',\n",
       " 'churned']"
      ]
     },
     "execution_count": 21,
     "metadata": {},
     "output_type": "execute_result"
    }
   ],
   "source": [
    "df_churned.columns"
   ]
  },
  {
   "cell_type": "code",
   "execution_count": 22,
   "metadata": {},
   "outputs": [
    {
     "name": "stdout",
     "output_type": "stream",
     "text": [
      "churned: 23.11%\n"
     ]
    }
   ],
   "source": [
    "churned_rate = df_churned.groupby(\"userId\").agg({\"churned\": \"sum\"}).select(avg(\"sum(churned)\")).collect()[0][\"avg(sum(churned))\"]\n",
    "print(\"churned: {:.2f}%\".format(churned_rate * 100))"
   ]
  },
  {
   "cell_type": "code",
   "execution_count": 23,
   "metadata": {},
   "outputs": [
    {
     "name": "stdout",
     "output_type": "stream",
     "text": [
      "+------+------+-----+---------------+------+-------------+-------+\n",
      "|userId|gender|level|           page|status|           ts|churned|\n",
      "+------+------+-----+---------------+------+-------------+-------+\n",
      "|    30|     M| paid|       NextSong|   200|1538352117000|      0|\n",
      "|     9|     M| free|       NextSong|   200|1538352180000|      0|\n",
      "|    30|     M| paid|       NextSong|   200|1538352394000|      0|\n",
      "|     9|     M| free|       NextSong|   200|1538352416000|      0|\n",
      "|    30|     M| paid|       NextSong|   200|1538352676000|      0|\n",
      "|     9|     M| free|       NextSong|   200|1538352678000|      0|\n",
      "|     9|     M| free|       NextSong|   200|1538352886000|      0|\n",
      "|    30|     M| paid|       NextSong|   200|1538352899000|      0|\n",
      "|    30|     M| paid|Add to Playlist|   200|1538352905000|      0|\n",
      "|    30|     M| paid|       NextSong|   200|1538353084000|      0|\n",
      "|     9|     M| free|       NextSong|   200|1538353146000|      0|\n",
      "|     9|     M| free|    Roll Advert|   200|1538353150000|      0|\n",
      "|    30|     M| paid|       NextSong|   200|1538353218000|      0|\n",
      "|     9|     M| free|       NextSong|   200|1538353375000|      0|\n",
      "|     9|     M| free|      Thumbs Up|   307|1538353376000|      0|\n",
      "|    30|     M| paid|       NextSong|   200|1538353441000|      0|\n",
      "|     9|     M| free|       NextSong|   200|1538353576000|      0|\n",
      "|    74|     F| free|       NextSong|   200|1538353668000|      0|\n",
      "|    30|     M| paid|       NextSong|   200|1538353687000|      0|\n",
      "|     9|     M| free|       NextSong|   200|1538353744000|      0|\n",
      "|    74|     F| free|       NextSong|   200|1538353834000|      0|\n",
      "|    30|     M| paid|       NextSong|   200|1538353909000|      0|\n",
      "|    54|     F| paid|       NextSong|   200|1538353930000|      0|\n",
      "|     9|     M| free|       NextSong|   200|1538353973000|      0|\n",
      "|    74|     F| free|       NextSong|   200|1538354117000|      0|\n",
      "|    30|     M| paid|       NextSong|   200|1538354132000|      0|\n",
      "|    54|     F| paid|       NextSong|   200|1538354180000|      0|\n",
      "|     9|     M| free|       NextSong|   200|1538354204000|      0|\n",
      "|    74|     F| free|       NextSong|   200|1538354291000|      0|\n",
      "|    30|     M| paid|       NextSong|   200|1538354365000|      0|\n",
      "+------+------+-----+---------------+------+-------------+-------+\n",
      "only showing top 30 rows\n",
      "\n"
     ]
    }
   ],
   "source": [
    "df_churned.select([\"userId\", \"gender\", \"level\", \"page\", \"status\", \"ts\", \"churned\"]).show(30)"
   ]
  },
  {
   "cell_type": "code",
   "execution_count": 24,
   "metadata": {},
   "outputs": [],
   "source": [
    "from pyspark.sql.functions import sum as Fsum\n",
    "from pyspark.sql.functions import min as Fmin\n",
    "from pyspark.sql.functions import max as Fmax"
   ]
  },
  {
   "cell_type": "code",
   "execution_count": 25,
   "metadata": {},
   "outputs": [],
   "source": [
    "windowval = Window.partitionBy(\"userId\").orderBy(asc(\"ts\")).rangeBetween(Window.unboundedPreceding, 0)\n",
    "df_phase = df_churned.withColumn(\"phase\", Fsum('churned').over(windowval))\n",
    "df_churn = df_phase.withColumn(\"churn\", Fmax('churned').over(Window.partitionBy(\"userId\")))"
   ]
  },
  {
   "cell_type": "code",
   "execution_count": 26,
   "metadata": {},
   "outputs": [
    {
     "name": "stdout",
     "output_type": "stream",
     "text": [
      "+------+------+-----+-----------+------+-------------+-------+-----+-----+\n",
      "|userId|gender|level|       page|status|           ts|churned|phase|churn|\n",
      "+------+------+-----+-----------+------+-------------+-------+-----+-----+\n",
      "|100010|     F| free|   NextSong|   200|1539003534000|      0|    0|    0|\n",
      "|100010|     F| free|   NextSong|   200|1539003736000|      0|    0|    0|\n",
      "|100010|     F| free|   NextSong|   200|1539003932000|      0|    0|    0|\n",
      "|100010|     F| free|  Thumbs Up|   307|1539003933000|      0|    0|    0|\n",
      "|100010|     F| free|   NextSong|   200|1539004195000|      0|    0|    0|\n",
      "|100010|     F| free|   NextSong|   200|1539004511000|      0|    0|    0|\n",
      "|100010|     F| free|   NextSong|   200|1539004694000|      0|    0|    0|\n",
      "|100010|     F| free|   NextSong|   200|1539004918000|      0|    0|    0|\n",
      "|100010|     F| free|Roll Advert|   200|1539004961000|      0|    0|    0|\n",
      "|100010|     F| free|   NextSong|   200|1539005157000|      0|    0|    0|\n",
      "|100010|     F| free|   NextSong|   200|1539005299000|      0|    0|    0|\n",
      "|100010|     F| free|   NextSong|   200|1539005548000|      0|    0|    0|\n",
      "|100010|     F| free|Roll Advert|   200|1539005571000|      0|    0|    0|\n",
      "|100010|     F| free|   NextSong|   200|1539005600000|      0|    0|    0|\n",
      "|100010|     F| free|  Thumbs Up|   307|1539005601000|      0|    0|    0|\n",
      "|100010|     F| free|   NextSong|   200|1539005762000|      0|    0|    0|\n",
      "|100010|     F| free|   NextSong|   200|1539006085000|      0|    0|    0|\n",
      "|100010|     F| free|Roll Advert|   200|1539006103000|      0|    0|    0|\n",
      "|100010|     F| free|   NextSong|   200|1539006330000|      0|    0|    0|\n",
      "|100010|     F| free|Roll Advert|   200|1539006331000|      0|    0|    0|\n",
      "+------+------+-----+-----------+------+-------------+-------+-----+-----+\n",
      "only showing top 20 rows\n",
      "\n"
     ]
    }
   ],
   "source": [
    "df_churn.select([\"userId\", \"gender\", \"level\", \"page\", \"status\", \"ts\", \"churned\", \"phase\", \"churn\"]).show(20)"
   ]
  },
  {
   "cell_type": "code",
   "execution_count": 27,
   "metadata": {},
   "outputs": [
    {
     "name": "stdout",
     "output_type": "stream",
     "text": [
      "+------+------+-----+--------------------+------+-------------+-------+-----+-----+\n",
      "|userId|gender|level|                page|status|           ts|churned|phase|churn|\n",
      "+------+------+-----+--------------------+------+-------------+-------+-----+-----+\n",
      "|   125|     M| free|            NextSong|   200|1539317144000|      0|    0|    1|\n",
      "|   125|     M| free|            NextSong|   200|1539317481000|      0|    0|    1|\n",
      "|   125|     M| free|            NextSong|   200|1539317711000|      0|    0|    1|\n",
      "|   125|     M| free|            NextSong|   200|1539317914000|      0|    0|    1|\n",
      "|   125|     M| free|            NextSong|   200|1539318124000|      0|    0|    1|\n",
      "|   125|     M| free|            NextSong|   200|1539318515000|      0|    0|    1|\n",
      "|   125|     M| free|            NextSong|   200|1539318728000|      0|    0|    1|\n",
      "|   125|     M| free|            NextSong|   200|1539318906000|      0|    0|    1|\n",
      "|   125|     M| free|         Roll Advert|   200|1539318917000|      0|    0|    1|\n",
      "|   125|     M| free|              Cancel|   307|1539318918000|      0|    1|    1|\n",
      "|   125|     M| free|Cancellation Conf...|   200|1539318918000|      1|    1|    1|\n",
      "|    51|     M| paid|                Home|   200|1538398632000|      0|    0|    1|\n",
      "|    51|     M| paid|            NextSong|   200|1538398649000|      0|    0|    1|\n",
      "|    51|     M| paid|            NextSong|   200|1538398938000|      0|    0|    1|\n",
      "|    51|     M| paid|            NextSong|   200|1538399167000|      0|    0|    1|\n",
      "|    51|     M| paid|            NextSong|   200|1538399351000|      0|    0|    1|\n",
      "|    51|     M| paid|            NextSong|   200|1538399495000|      0|    0|    1|\n",
      "|    51|     M| paid|            NextSong|   200|1538399843000|      0|    0|    1|\n",
      "|    51|     M| paid|            NextSong|   200|1538400086000|      0|    0|    1|\n",
      "|    51|     M| paid|            NextSong|   200|1538400309000|      0|    0|    1|\n",
      "+------+------+-----+--------------------+------+-------------+-------+-----+-----+\n",
      "only showing top 20 rows\n",
      "\n"
     ]
    }
   ],
   "source": [
    "df_churn.filter(df_churn[\"churn\"] == 1).select([\"userId\", \"gender\", \"level\", \"page\", \"status\", \"ts\", \"churned\", \"phase\", \"churn\"]).show()"
   ]
  },
  {
   "cell_type": "code",
   "execution_count": 28,
   "metadata": {},
   "outputs": [
    {
     "name": "stdout",
     "output_type": "stream",
     "text": [
      "churned user count: 52 (total: 278154)\n",
      "churned user rate: 0.02%\n"
     ]
    }
   ],
   "source": [
    "churned_user_count = df_churn.filter(df_churn[\"churn\"] == 1).select(\"userId\").dropDuplicates().count()\n",
    "print(\"churned user count: {} (total: {})\".format(churned_user_count, df_churn.count()))\n",
    "print(\"churned user rate: {:.2f}%\".format(churned_user_count / df_churn.count() * 100))"
   ]
  },
  {
   "cell_type": "code",
   "execution_count": 29,
   "metadata": {},
   "outputs": [],
   "source": [
    "func_churn_label = udf(lambda x: 'Churn' if x == 1 else 'Not Churn')"
   ]
  },
  {
   "cell_type": "code",
   "execution_count": 30,
   "metadata": {},
   "outputs": [],
   "source": [
    "df_churn_user = df_churn.groupby(\"userId\").max(\"churn\").withColumnRenamed(\"max(churn)\", \"churn\").select([\"userId\", \"churn\"])"
   ]
  },
  {
   "cell_type": "code",
   "execution_count": 31,
   "metadata": {},
   "outputs": [
    {
     "data": {
      "text/html": [
       "<div>\n",
       "<style scoped>\n",
       "    .dataframe tbody tr th:only-of-type {\n",
       "        vertical-align: middle;\n",
       "    }\n",
       "\n",
       "    .dataframe tbody tr th {\n",
       "        vertical-align: top;\n",
       "    }\n",
       "\n",
       "    .dataframe thead th {\n",
       "        text-align: right;\n",
       "    }\n",
       "</style>\n",
       "<table border=\"1\" class=\"dataframe\">\n",
       "  <thead>\n",
       "    <tr style=\"text-align: right;\">\n",
       "      <th></th>\n",
       "      <th>userId</th>\n",
       "      <th>gender</th>\n",
       "      <th>churn</th>\n",
       "    </tr>\n",
       "  </thead>\n",
       "  <tbody>\n",
       "    <tr>\n",
       "      <td>0</td>\n",
       "      <td>100010</td>\n",
       "      <td>F</td>\n",
       "      <td>Not Churn</td>\n",
       "    </tr>\n",
       "    <tr>\n",
       "      <td>1</td>\n",
       "      <td>100010</td>\n",
       "      <td>F</td>\n",
       "      <td>Not Churn</td>\n",
       "    </tr>\n",
       "    <tr>\n",
       "      <td>2</td>\n",
       "      <td>100010</td>\n",
       "      <td>F</td>\n",
       "      <td>Not Churn</td>\n",
       "    </tr>\n",
       "    <tr>\n",
       "      <td>3</td>\n",
       "      <td>100010</td>\n",
       "      <td>F</td>\n",
       "      <td>Not Churn</td>\n",
       "    </tr>\n",
       "    <tr>\n",
       "      <td>4</td>\n",
       "      <td>100010</td>\n",
       "      <td>F</td>\n",
       "      <td>Not Churn</td>\n",
       "    </tr>\n",
       "  </tbody>\n",
       "</table>\n",
       "</div>"
      ],
      "text/plain": [
       "   userId gender      churn\n",
       "0  100010      F  Not Churn\n",
       "1  100010      F  Not Churn\n",
       "2  100010      F  Not Churn\n",
       "3  100010      F  Not Churn\n",
       "4  100010      F  Not Churn"
      ]
     },
     "execution_count": 31,
     "metadata": {},
     "output_type": "execute_result"
    }
   ],
   "source": [
    "pd_gender = df_churn.select([\"userId\", \"gender\", \"churn\"]).withColumn(\"churn\", func_churn_label(\"churn\")).toPandas()\n",
    "pd_gender.head()"
   ]
  },
  {
   "cell_type": "code",
   "execution_count": 32,
   "metadata": {},
   "outputs": [
    {
     "data": {
      "image/png": "[encoded data removed]",
      "text/plain": [
       "<Figure size 432x288 with 1 Axes>"
      ]
     },
     "metadata": {
      "needs_background": "light"
     },
     "output_type": "display_data"
    }
   ],
   "source": [
    "import seaborn as sns\n",
    "import matplotlib.pyplot as plt\n",
    "import seaborn as sns\n",
    "sns.set_color_codes(\"pastel\")\n",
    "sns.set_style(\"whitegrid\")\n",
    "%matplotlib inline\n",
    "sns.countplot(x=\"gender\", hue=\"churn\", data=pd_gender);"
   ]
  },
  {
   "cell_type": "code",
   "execution_count": 33,
   "metadata": {},
   "outputs": [
    {
     "data": {
      "image/png": "[encoded data removed]",
      "text/plain": [
       "<Figure size 432x288 with 1 Axes>"
      ]
     },
     "metadata": {
      "needs_background": "light"
     },
     "output_type": "display_data"
    }
   ],
   "source": [
    "pd_level = df_churn.select([\"userId\", \"level\", \"churn\"]).withColumn(\"churn\", func_churn_label(\"churn\")).toPandas()\n",
    "pd_level.head()\n",
    "sns.countplot(x=\"level\", hue=\"churn\", data=pd_level);"
   ]
  },
  {
   "cell_type": "code",
   "execution_count": 34,
   "metadata": {},
   "outputs": [
    {
     "data": {
      "image/png": "[encoded data removed]",
      "text/plain": [
       "<Figure size 432x288 with 1 Axes>"
      ]
     },
     "metadata": {
      "needs_background": "light"
     },
     "output_type": "display_data"
    }
   ],
   "source": [
    "pd_artist = df_churn_user.join(df_churn.groupby(\"userId\") \\\n",
    "                                    .agg({\"artist\": \"count\"}) \\\n",
    "                                    .withColumnRenamed(\"count(artist)\", \"artist_count\"), [\"userId\"]) \\\n",
    "                         .withColumn(\"churn\", func_churn_label(\"churn\")).toPandas()\n",
    "pd_artist.head()\n",
    "sns.boxplot(x=\"churn\", y=\"artist_count\", data=pd_artist);"
   ]
  },
  {
   "cell_type": "code",
   "execution_count": 35,
   "metadata": {},
   "outputs": [
    {
     "data": {
      "image/png": "[encoded data removed]",
      "text/plain": [
       "<Figure size 432x288 with 1 Axes>"
      ]
     },
     "metadata": {
      "needs_background": "light"
     },
     "output_type": "display_data"
    }
   ],
   "source": [
    "pd_song = df_churn_user.join(df_churn.groupby(\"userId\") \\\n",
    "                                     .agg({\"song\": \"count\"}) \\\n",
    "                                     .withColumnRenamed(\"count(song)\", \"song_count\"), [\"userId\"]) \\\n",
    "                       .withColumn(\"churn\", func_churn_label(\"churn\")).toPandas()\n",
    "pd_song.head()\n",
    "sns.boxplot(x=\"churn\", y=\"song_count\", data=pd_song);"
   ]
  },
  {
   "cell_type": "code",
   "execution_count": 36,
   "metadata": {},
   "outputs": [
    {
     "data": {
      "image/png": "[encoded data removed]",
      "text/plain": [
       "<Figure size 432x288 with 1 Axes>"
      ]
     },
     "metadata": {
      "needs_background": "light"
     },
     "output_type": "display_data"
    }
   ],
   "source": [
    "pd_length = df_churn_user.join(df_churn.groupby(\"userId\") \\\n",
    "                                       .agg({\"length\": \"sum\"}) \\\n",
    "                                       .withColumnRenamed(\"sum(length)\", \"total_length\"), [\"userId\"]) \\\n",
    "                          .withColumn(\"churn\", func_churn_label(\"churn\")).toPandas()\n",
    "pd_length.head()\n",
    "sns.boxplot(x=\"churn\", y=\"total_length\", data=pd_length);"
   ]
  },
  {
   "cell_type": "code",
   "execution_count": 37,
   "metadata": {},
   "outputs": [
    {
     "data": {
      "image/png": "[encoded data removed]",
      "text/plain": [
       "<Figure size 432x288 with 1 Axes>"
      ]
     },
     "metadata": {
      "needs_background": "light"
     },
     "output_type": "display_data"
    }
   ],
   "source": [
    "pd_visit = df_churn_user.join(df_churn.groupby(\"userId\") \\\n",
    "                                      .count() \\\n",
    "                                      .withColumnRenamed(\"count\", \"visit_count\"), [\"userId\"]) \\\n",
    "                         .withColumn(\"churn\", func_churn_label(\"churn\")).toPandas()\n",
    "pd_visit.head()\n",
    "sns.boxplot(x=\"churn\", y=\"visit_count\", data=pd_visit);"
   ]
  },
  {
   "cell_type": "code",
   "execution_count": 38,
   "metadata": {},
   "outputs": [
    {
     "data": {
      "image/png": "[encoded data removed]",
      "text/plain": [
       "<Figure size 432x288 with 1 Axes>"
      ]
     },
     "metadata": {
      "needs_background": "light"
     },
     "output_type": "display_data"
    }
   ],
   "source": [
    "pd_up = df_churn_user.join(df_churn.filter((df_churn[\"page\"] == 'Thumbs Up')) \\\n",
    "                                   .groupby(\"userId\") \\\n",
    "                                   .count() \\\n",
    "                                   .withColumnRenamed(\"count\", \"up_count\"), [\"userId\"]) \\\n",
    "                     .withColumn(\"churn\", func_churn_label(\"churn\")).toPandas()\n",
    "pd_up.head()\n",
    "sns.boxplot(x=\"churn\", y=\"up_count\", data=pd_up);"
   ]
  },
  {
   "cell_type": "code",
   "execution_count": 39,
   "metadata": {},
   "outputs": [
    {
     "data": {
      "image/png": "[encoded data removed]",
      "text/plain": [
       "<Figure size 432x288 with 1 Axes>"
      ]
     },
     "metadata": {
      "needs_background": "light"
     },
     "output_type": "display_data"
    }
   ],
   "source": [
    "pd_down = df_churn_user.join(df_churn.filter((df_churn[\"page\"] == 'Thumbs Down')) \\\n",
    "                                   .groupby(\"userId\") \\\n",
    "                                   .count() \\\n",
    "                                   .withColumnRenamed(\"count\", \"down_count\"), [\"userId\"]) \\\n",
    "                     .withColumn(\"churn\", func_churn_label(\"churn\")).toPandas()\n",
    "pd_down.head()\n",
    "sns.boxplot(x=\"churn\", y=\"down_count\", data=pd_down);"
   ]
  },
  {
   "cell_type": "code",
   "execution_count": null,
   "metadata": {},
   "outputs": [],
   "source": []
  },
  {
   "cell_type": "markdown",
   "metadata": {},
   "source": [
    "# Feature Engineering\n",
    "Once you've familiarized yourself with the data, build out the features you find promising to train your model on. To work with the full dataset, you can follow the following steps.\n",
    "- Write a script to extract the necessary features from the smaller subset of data\n",
    "- Ensure that your script is scalable, using the best practices discussed in Lesson 3\n",
    "- Try your script on the full data set, debugging your script if necessary\n",
    "\n",
    "If you are working in the classroom workspace, you can just extract features based on the small subset of data contained here. Be sure to transfer over this work to the larger dataset when you work on your Spark cluster."
   ]
  },
  {
   "cell_type": "code",
   "execution_count": 40,
   "metadata": {},
   "outputs": [],
   "source": [
    "df_original = df_churn.groupby('userId').max(\"churn\").withColumnRenamed(\"max(churn)\", \"target\")\n",
    "user_artist = df_churn.groupby(\"userId\").agg({\"artist\": \"count\"}).withColumnRenamed(\"count(artist)\", \"artist_count\")\n",
    "flag_gender = udf(lambda x: 1 if x == \"F\" else 0, IntegerType())\n",
    "df_churn_with_gender = df_churn.withColumn(\"gender\", flag_gender(\"gender\"))\n",
    "user_gender = df_churn_with_gender.groupby('userId').agg({\"gender\": \"max\"}).withColumnRenamed(\"max(gender)\", \"gender\")\n",
    "user_length = df_churn.groupby('userId').agg({\"length\": \"sum\"}).withColumnRenamed(\"sum(length)\", \"length\")\n",
    "user_thumbs_up = df_churn.filter(df_churn[\"page\"] == 'Thumbs Up').groupby('userId').count().withColumnRenamed(\"count\", \"thumb_up\")\n",
    "user_thumbs_down = df_churn.filter(df_churn[\"page\"] == 'Thumbs Down').groupby('userId').count().withColumnRenamed(\"count\", \"thumb_down\")\n",
    "flag_level = udf(lambda x: 1 if x == \"paid\" else 0, IntegerType())\n",
    "df_churn_with_level = df_churn.withColumn(\"level\", flag_level(\"level\"))\n",
    "user_level = df_churn_with_level.groupby('userId').agg({\"level\": \"max\"}).withColumnRenamed(\"max(level)\", \"level\")\n",
    "user_song = df_churn.groupby(\"userId\").agg({\"song\": \"count\"}).withColumnRenamed(\"count(song)\", \"song_count\")"
   ]
  },
  {
   "cell_type": "code",
   "execution_count": 41,
   "metadata": {},
   "outputs": [],
   "source": [
    "merged_df = df_original.join(user_artist, ['userId']) \\\n",
    "    .join(user_gender, ['userId']) \\\n",
    "    .join(user_length, ['userId']) \\\n",
    "    .join(user_level, ['userId']) \\\n",
    "    .join(user_thumbs_up, ['userId']) \\\n",
    "    .join(user_thumbs_down, ['userId']) \\\n",
    "    .join(user_song, ['userId'])"
   ]
  },
  {
   "cell_type": "code",
   "execution_count": 42,
   "metadata": {},
   "outputs": [
    {
     "name": "stdout",
     "output_type": "stream",
     "text": [
      "+------+------+------------+------+------------------+-----+--------+----------+----------+\n",
      "|userId|target|artist_count|gender|            length|level|thumb_up|thumb_down|song_count|\n",
      "+------+------+------------+------+------------------+-----+--------+----------+----------+\n",
      "|100010|     0|         275|     1|       66940.89735|    0|      17|         5|       275|\n",
      "|200002|     0|         387|     0| 94008.87593999993|    1|      21|         6|       387|\n",
      "|   124|     0|        4079|     1|1012312.0927899999|    1|     171|        41|      4079|\n",
      "|    51|     1|        2111|     0| 523275.8428000001|    1|     100|        21|      2111|\n",
      "|     7|     0|         150|     0|        38034.0871|    0|       7|         1|       150|\n",
      "+------+------+------------+------+------------------+-----+--------+----------+----------+\n",
      "only showing top 5 rows\n",
      "\n"
     ]
    }
   ],
   "source": [
    "merged_df.show(5)"
   ]
  },
  {
   "cell_type": "markdown",
   "metadata": {},
   "source": [
    "# Modeling\n",
    "Split the full dataset into train, test, and validation sets. Test out several of the machine learning methods you learned. Evaluate the accuracy of the various models, tuning parameters as necessary. Determine your winning model based on test accuracy and report results on the validation set. Since the churned users are a fairly small subset, I suggest using F1 score as the metric to optimize."
   ]
  },
  {
   "cell_type": "code",
   "execution_count": 43,
   "metadata": {},
   "outputs": [
    {
     "data": {
      "text/plain": [
       "['artist_count',\n",
       " 'gender',\n",
       " 'length',\n",
       " 'level',\n",
       " 'thumb_up',\n",
       " 'thumb_down',\n",
       " 'song_count']"
      ]
     },
     "execution_count": 43,
     "metadata": {},
     "output_type": "execute_result"
    }
   ],
   "source": [
    "merged_df_without_user = merged_df.drop(\"userId\")\n",
    "feature_columns = [col for col in merged_df_without_user.columns if col!='target']\n",
    "feature_columns"
   ]
  },
  {
   "cell_type": "code",
   "execution_count": 44,
   "metadata": {},
   "outputs": [],
   "source": [
    "from pyspark.ml import Pipeline\n",
    "from pyspark.ml.feature import MinMaxScaler, VectorAssembler\n",
    "from pyspark.ml.classification import LogisticRegression, RandomForestClassifier, GBTClassifier\n",
    "from pyspark.ml.evaluation import BinaryClassificationEvaluator, MulticlassClassificationEvaluator\n",
    "from pyspark.ml.tuning import CrossValidator, ParamGridBuilder"
   ]
  },
  {
   "cell_type": "code",
   "execution_count": 45,
   "metadata": {},
   "outputs": [],
   "source": [
    "train, test = merged_df_without_user.randomSplit([0.7, 0.3], seed=0)"
   ]
  },
  {
   "cell_type": "code",
   "execution_count": 46,
   "metadata": {},
   "outputs": [],
   "source": [
    "def build_model(classifier, param):\n",
    "    assembler = VectorAssembler(inputCols=feature_columns, outputCol=\"features\")\n",
    "    scaler = MinMaxScaler(inputCol=\"features\", outputCol=\"scaled_features\")\n",
    "    pipeline = Pipeline(stages=[assembler, scaler, classifier])\n",
    "\n",
    "    model = CrossValidator(\n",
    "        estimator=pipeline,\n",
    "        estimatorParamMaps=param,\n",
    "        evaluator=MulticlassClassificationEvaluator(labelCol='target', metricName='f1'),\n",
    "        numFolds=5,\n",
    "    )\n",
    "    return model"
   ]
  },
  {
   "cell_type": "markdown",
   "metadata": {},
   "source": [
    "**Logistic Regression**"
   ]
  },
  {
   "cell_type": "code",
   "execution_count": 47,
   "metadata": {},
   "outputs": [],
   "source": [
    "lr = LogisticRegression(featuresCol=\"scaled_features\", labelCol=\"target\")\n",
    "param = ParamGridBuilder().build()\n",
    "model = build_model(lr, param)"
   ]
  },
  {
   "cell_type": "code",
   "execution_count": 48,
   "metadata": {},
   "outputs": [
    {
     "name": "stdout",
     "output_type": "stream",
     "text": [
      "Wall time: 37min 23s\n"
     ]
    }
   ],
   "source": [
    "%%time\n",
    "fit_model = model.fit(train)"
   ]
  },
  {
   "cell_type": "code",
   "execution_count": 49,
   "metadata": {},
   "outputs": [],
   "source": [
    "pred = fit_model.transform(test)"
   ]
  },
  {
   "cell_type": "code",
   "execution_count": 50,
   "metadata": {},
   "outputs": [],
   "source": [
    "evaluator = MulticlassClassificationEvaluator(predictionCol=\"prediction\", labelCol=\"target\")"
   ]
  },
  {
   "cell_type": "code",
   "execution_count": 51,
   "metadata": {},
   "outputs": [
    {
     "name": "stdout",
     "output_type": "stream",
     "text": [
      "f1: 0.7324641460234681\n"
     ]
    }
   ],
   "source": [
    "f1_score = evaluator.evaluate(pred, {evaluator.metricName: \"f1\"})\n",
    "print(\"f1: {}\".format(f1_score))"
   ]
  },
  {
   "cell_type": "markdown",
   "metadata": {},
   "source": [
    "**Random Forest**"
   ]
  },
  {
   "cell_type": "code",
   "execution_count": 52,
   "metadata": {},
   "outputs": [
    {
     "name": "stdout",
     "output_type": "stream",
     "text": [
      "f1: 0.716976127320955\n",
      "Wall time: 52min 48s\n"
     ]
    }
   ],
   "source": [
    "%%time\n",
    "rf = RandomForestClassifier(featuresCol=\"scaled_features\", labelCol=\"target\")\n",
    "rf_param = ParamGridBuilder().build()\n",
    "rf_model = build_model(rf, rf_param)\n",
    "rf_fit_model = rf_model.fit(train)\n",
    "rf_pred = rf_fit_model.transform(test)\n",
    "rf_pred.select(\"prediction\").dropDuplicates().collect()\n",
    "\n",
    "rf_f1_score = evaluator.evaluate(rf_pred, {evaluator.metricName: \"f1\"})\n",
    "print(\"f1: {}\".format(rf_f1_score))"
   ]
  },
  {
   "cell_type": "markdown",
   "metadata": {},
   "source": [
    "**Feature Evaluation**"
   ]
  },
  {
   "cell_type": "code",
   "execution_count": 53,
   "metadata": {},
   "outputs": [
    {
     "data": {
      "text/html": [
       "<div>\n",
       "<style scoped>\n",
       "    .dataframe tbody tr th:only-of-type {\n",
       "        vertical-align: middle;\n",
       "    }\n",
       "\n",
       "    .dataframe tbody tr th {\n",
       "        vertical-align: top;\n",
       "    }\n",
       "\n",
       "    .dataframe thead th {\n",
       "        text-align: right;\n",
       "    }\n",
       "</style>\n",
       "<table border=\"1\" class=\"dataframe\">\n",
       "  <thead>\n",
       "    <tr style=\"text-align: right;\">\n",
       "      <th></th>\n",
       "      <th>feature</th>\n",
       "      <th>importance</th>\n",
       "    </tr>\n",
       "  </thead>\n",
       "  <tbody>\n",
       "    <tr>\n",
       "      <td>0</td>\n",
       "      <td>thumb_down</td>\n",
       "      <td>0.242458</td>\n",
       "    </tr>\n",
       "    <tr>\n",
       "      <td>1</td>\n",
       "      <td>artist_count</td>\n",
       "      <td>0.220867</td>\n",
       "    </tr>\n",
       "    <tr>\n",
       "      <td>2</td>\n",
       "      <td>thumb_up</td>\n",
       "      <td>0.201844</td>\n",
       "    </tr>\n",
       "    <tr>\n",
       "      <td>3</td>\n",
       "      <td>song_count</td>\n",
       "      <td>0.156758</td>\n",
       "    </tr>\n",
       "    <tr>\n",
       "      <td>4</td>\n",
       "      <td>length</td>\n",
       "      <td>0.088738</td>\n",
       "    </tr>\n",
       "    <tr>\n",
       "      <td>5</td>\n",
       "      <td>gender</td>\n",
       "      <td>0.056059</td>\n",
       "    </tr>\n",
       "    <tr>\n",
       "      <td>6</td>\n",
       "      <td>level</td>\n",
       "      <td>0.033277</td>\n",
       "    </tr>\n",
       "  </tbody>\n",
       "</table>\n",
       "</div>"
      ],
      "text/plain": [
       "        feature  importance\n",
       "0    thumb_down    0.242458\n",
       "1  artist_count    0.220867\n",
       "2      thumb_up    0.201844\n",
       "3    song_count    0.156758\n",
       "4        length    0.088738\n",
       "5        gender    0.056059\n",
       "6         level    0.033277"
      ]
     },
     "execution_count": 53,
     "metadata": {},
     "output_type": "execute_result"
    }
   ],
   "source": [
    "rf_feature_importance_df = pd.DataFrame()\n",
    "rf_feature_importance_df['feature'] = feature_columns\n",
    "rf_feature_importance_df['importance'] = rf_fit_model.bestModel.stages[2].featureImportances.values.tolist()\n",
    "rf_feature_importance_df = rf_feature_importance_df.sort_values(by='importance', ascending=False).reset_index(drop=True)\n",
    "rf_feature_importance_df"
   ]
  },
  {
   "cell_type": "code",
   "execution_count": 54,
   "metadata": {},
   "outputs": [
    {
     "data": {
      "image/png": "[encoded data removed]",
      "text/plain": [
       "<Figure size 504x504 with 1 Axes>"
      ]
     },
     "metadata": {
      "needs_background": "light"
     },
     "output_type": "display_data"
    }
   ],
   "source": [
    "plt.figure(figsize=(7,7))\n",
    "sns.barplot(x='importance', y='feature', data=rf_feature_importance_df, color=\"b\")\n",
    "plt.title('Feature Importance')\n",
    "plt.ylabel('');"
   ]
  },
  {
   "cell_type": "markdown",
   "metadata": {},
   "source": [
    "**HyperTuning**"
   ]
  },
  {
   "cell_type": "code",
   "execution_count": 55,
   "metadata": {},
   "outputs": [],
   "source": [
    "classifier = RandomForestClassifier(featuresCol=\"scaled_features\", labelCol=\"target\")\n",
    "\n",
    "param_grid = ParamGridBuilder() \\\n",
    "    .addGrid(classifier.maxDepth,[5, 10]) \\\n",
    "    .addGrid(classifier.numTrees, [20, 50]) \\\n",
    "    .addGrid(classifier.minInstancesPerNode, [1, 10]) \\\n",
    "    .build()\n",
    "\n",
    "model_tuned = build_model(classifier, param_grid)"
   ]
  },
  {
   "cell_type": "code",
   "execution_count": 56,
   "metadata": {},
   "outputs": [
    {
     "name": "stdout",
     "output_type": "stream",
     "text": [
      "Wall time: 1h 33min 8s\n"
     ]
    }
   ],
   "source": [
    "%%time\n",
    "fit_model_tuned = model_tuned.fit(train)"
   ]
  },
  {
   "cell_type": "code",
   "execution_count": 58,
   "metadata": {},
   "outputs": [],
   "source": [
    "best_model = fit_model_tuned.bestModel"
   ]
  },
  {
   "cell_type": "code",
   "execution_count": 59,
   "metadata": {},
   "outputs": [],
   "source": [
    "best_model_pred = best_model.transform(test)"
   ]
  },
  {
   "cell_type": "code",
   "execution_count": 60,
   "metadata": {},
   "outputs": [
    {
     "name": "stdout",
     "output_type": "stream",
     "text": [
      "+------+------------+------+------------------+-----+--------+----------+----------+--------------------+--------------------+--------------------+--------------------+----------+\n",
      "|target|artist_count|gender|            length|level|thumb_up|thumb_down|song_count|            features|     scaled_features|       rawPrediction|         probability|prediction|\n",
      "+------+------------+------+------------------+-----+--------+----------+----------+--------------------+--------------------+--------------------+--------------------+----------+\n",
      "|     0|         275|     1|       66940.89735|    0|      17|         5|       275|[275.0,1.0,66940....|[0.04206791687785...|[13.7983650069223...|[0.68991825034611...|       0.0|\n",
      "|     0|        1914|     0|477307.60580999975|    1|      81|        14|      1914|[1914.0,0.0,47730...|[0.31897279945936...|[15.5101082941487...|[0.77550541470743...|       0.0|\n",
      "|     0|        1928|     1| 483118.9038399998|    1|      96|        17|      1928|[1928.0,1.0,48311...|[0.32133806386213...|[17.7360229024163...|[0.88680114512081...|       0.0|\n",
      "|     0|        3632|     1| 897406.9802099995|    1|     303|        28|      3632|[3632.0,1.0,89740...|[0.60922453117080...|[10.2394519295295...|[0.51197259647647...|       0.0|\n",
      "|     1|         230|     0|57633.175639999994|    0|      11|         5|       230|[230.0,0.0,57633....|[0.03446528129751...|[12.4526133729353...|[0.62263066864676...|       0.0|\n",
      "+------+------------+------+------------------+-----+--------+----------+----------+--------------------+--------------------+--------------------+--------------------+----------+\n",
      "only showing top 5 rows\n",
      "\n"
     ]
    }
   ],
   "source": [
    "best_model_pred.show(5)"
   ]
  },
  {
   "cell_type": "code",
   "execution_count": 61,
   "metadata": {},
   "outputs": [
    {
     "name": "stdout",
     "output_type": "stream",
     "text": [
      "f1: 0.716976127320955\n"
     ]
    }
   ],
   "source": [
    "best_f1_score = evaluator.evaluate(best_model_pred, {evaluator.metricName: \"f1\"})\n",
    "print(\"f1: {}\".format(best_f1_score))"
   ]
  },
  {
   "cell_type": "markdown",
   "metadata": {},
   "source": [
    "# Final Steps\n",
    "Clean up your code, adding comments and renaming variables to make the code easier to read and maintain. Refer to the Spark Project Overview page and Data Scientist Capstone Project Rubric to make sure you are including all components of the capstone project and meet all expectations. Remember, this includes thorough documentation in a README file in a Github repository, as well as a web app or blog post."
   ]
  }
 ],
 "metadata": {
  "kernelspec": {
   "display_name": "Python 3",
   "language": "python",
   "name": "python3"
  },
  "language_info": {
   "codemirror_mode": {
    "name": "ipython",
    "version": 3
   },
   "file_extension": ".py",
   "mimetype": "text/x-python",
   "name": "python",
   "nbconvert_exporter": "python",
   "pygments_lexer": "ipython3",
   "version": "3.7.4"
  }
 },
 "nbformat": 4,
 "nbformat_minor": 2
}
